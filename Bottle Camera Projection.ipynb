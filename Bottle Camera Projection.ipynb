{
 "metadata": {
  "name": "",
  "signature": "sha256:7e3f654fb58d98b4ef6a5b8777ee8c54d65a7a5a0c2cd9de45e4858138bc9604"
 },
 "nbformat": 3,
 "nbformat_minor": 0,
 "worksheets": [
  {
   "cells": [
    {
     "cell_type": "code",
     "collapsed": false,
     "input": [
      "from IPython.display import display\n",
      "from sympy.interactive import printing\n",
      "printing.init_printing(use_latex='mathjax')\n",
      "from __future__ import division\n",
      "import sympy as sym\n",
      "from sympy import *\n"
     ],
     "language": "python",
     "metadata": {},
     "outputs": [],
     "prompt_number": 1
    },
    {
     "cell_type": "code",
     "collapsed": false,
     "input": [
      "x, y, z, h = symbols('x y z h')\n",
      "d, r, phi, zeta, h_l, beta = symbols('d r phi zeta h_l beta')\n",
      "theta_x, theta_y, theta_z = symbols('theta_x theta_y theta_z')\n"
     ],
     "language": "python",
     "metadata": {},
     "outputs": [],
     "prompt_number": 2
    },
    {
     "cell_type": "markdown",
     "metadata": {},
     "source": [
      "### Camera Orientation Matrix R computation"
     ]
    },
    {
     "cell_type": "code",
     "collapsed": false,
     "input": [
      "Mx = Matrix([[1,0,0],[0,cos(-theta_x),-sin(-theta_x)],[0,sin(-theta_x),cos(-theta_x)]])\n",
      "My = Matrix([[cos(-theta_y),0,sin(-theta_y)],[0,1,0],[sin(-theta_y),0, cos(-theta_y)]])\n",
      "Mz = Matrix([[cos(-theta_z),-sin(-theta_z),0],[sin(-theta_z),cos(-theta_z),0],[0,0,1],])\n",
      "R = Mx*My*Mz"
     ],
     "language": "python",
     "metadata": {},
     "outputs": [],
     "prompt_number": 34
    },
    {
     "cell_type": "code",
     "collapsed": false,
     "input": [
      "Mx"
     ],
     "language": "python",
     "metadata": {},
     "outputs": [
      {
       "latex": [
        "$$\\left[\\begin{matrix}1 & 0 & 0\\\\0 & \\cos{\\left (\\theta_{x} \\right )} & \\sin{\\left (\\theta_{x} \\right )}\\\\0 & - \\sin{\\left (\\theta_{x} \\right )} & \\cos{\\left (\\theta_{x} \\right )}\\end{matrix}\\right]$$"
       ],
       "metadata": {},
       "output_type": "pyout",
       "prompt_number": 3,
       "text": [
        "\u23a11     0         0   \u23a4\n",
        "\u23a2                    \u23a5\n",
        "\u23a20  cos(\u03b8\u2093)   sin(\u03b8\u2093)\u23a5\n",
        "\u23a2                    \u23a5\n",
        "\u23a30  -sin(\u03b8\u2093)  cos(\u03b8\u2093)\u23a6"
       ]
      }
     ],
     "prompt_number": 3
    },
    {
     "cell_type": "code",
     "collapsed": false,
     "input": [
      "My"
     ],
     "language": "python",
     "metadata": {},
     "outputs": [
      {
       "latex": [
        "$$\\left[\\begin{matrix}\\cos{\\left (\\theta_{y} \\right )} & 0 & - \\sin{\\left (\\theta_{y} \\right )}\\\\0 & 1 & 0\\\\- \\sin{\\left (\\theta_{y} \\right )} & 0 & \\cos{\\left (\\theta_{y} \\right )}\\end{matrix}\\right]$$"
       ],
       "metadata": {},
       "output_type": "pyout",
       "prompt_number": 4,
       "text": [
        "\u23a1cos(\u03b8_y)   0  -sin(\u03b8_y)\u23a4\n",
        "\u23a2                       \u23a5\n",
        "\u23a2    0      1      0    \u23a5\n",
        "\u23a2                       \u23a5\n",
        "\u23a3-sin(\u03b8_y)  0  cos(\u03b8_y) \u23a6"
       ]
      }
     ],
     "prompt_number": 4
    },
    {
     "cell_type": "code",
     "collapsed": false,
     "input": [
      "Mz"
     ],
     "language": "python",
     "metadata": {},
     "outputs": [
      {
       "latex": [
        "$$\\left[\\begin{matrix}\\cos{\\left (\\theta_{z} \\right )} & \\sin{\\left (\\theta_{z} \\right )} & 0\\\\- \\sin{\\left (\\theta_{z} \\right )} & \\cos{\\left (\\theta_{z} \\right )} & 0\\\\0 & 0 & 1\\end{matrix}\\right]$$"
       ],
       "metadata": {},
       "output_type": "pyout",
       "prompt_number": 5,
       "text": [
        "\u23a1cos(\u03b8_z)   sin(\u03b8_z)  0\u23a4\n",
        "\u23a2                      \u23a5\n",
        "\u23a2-sin(\u03b8_z)  cos(\u03b8_z)  0\u23a5\n",
        "\u23a2                      \u23a5\n",
        "\u23a3    0         0      1\u23a6"
       ]
      }
     ],
     "prompt_number": 5
    },
    {
     "cell_type": "code",
     "collapsed": false,
     "input": [
      "R"
     ],
     "language": "python",
     "metadata": {},
     "outputs": [
      {
       "latex": [
        "$$\\left[\\begin{matrix}\\cos{\\left (\\theta_{y} \\right )} \\cos{\\left (\\theta_{z} \\right )} & \\sin{\\left (\\theta_{z} \\right )} \\cos{\\left (\\theta_{y} \\right )} & - \\sin{\\left (\\theta_{y} \\right )}\\\\- \\sin{\\left (\\theta_{x} \\right )} \\sin{\\left (\\theta_{y} \\right )} \\cos{\\left (\\theta_{z} \\right )} - \\sin{\\left (\\theta_{z} \\right )} \\cos{\\left (\\theta_{x} \\right )} & - \\sin{\\left (\\theta_{x} \\right )} \\sin{\\left (\\theta_{y} \\right )} \\sin{\\left (\\theta_{z} \\right )} + \\cos{\\left (\\theta_{x} \\right )} \\cos{\\left (\\theta_{z} \\right )} & \\sin{\\left (\\theta_{x} \\right )} \\cos{\\left (\\theta_{y} \\right )}\\\\\\sin{\\left (\\theta_{x} \\right )} \\sin{\\left (\\theta_{z} \\right )} - \\sin{\\left (\\theta_{y} \\right )} \\cos{\\left (\\theta_{x} \\right )} \\cos{\\left (\\theta_{z} \\right )} & - \\sin{\\left (\\theta_{x} \\right )} \\cos{\\left (\\theta_{z} \\right )} - \\sin{\\left (\\theta_{y} \\right )} \\sin{\\left (\\theta_{z} \\right )} \\cos{\\left (\\theta_{x} \\right )} & \\cos{\\left (\\theta_{x} \\right )} \\cos{\\left (\\theta_{y} \\right )}\\end{matrix}\\right]$$"
       ],
       "metadata": {},
       "output_type": "pyout",
       "prompt_number": 6,
       "text": [
        "\u23a1              cos(\u03b8_y)\u22c5cos(\u03b8_z)                              sin(\u03b8_z)\u22c5cos(\u03b8_y\n",
        "\u23a2                                                                             \n",
        "\u23a2-sin(\u03b8\u2093)\u22c5sin(\u03b8_y)\u22c5cos(\u03b8_z) - sin(\u03b8_z)\u22c5cos(\u03b8\u2093)  -sin(\u03b8\u2093)\u22c5sin(\u03b8_y)\u22c5sin(\u03b8_z) + c\n",
        "\u23a2                                                                             \n",
        "\u23a3sin(\u03b8\u2093)\u22c5sin(\u03b8_z) - sin(\u03b8_y)\u22c5cos(\u03b8\u2093)\u22c5cos(\u03b8_z)   -sin(\u03b8\u2093)\u22c5cos(\u03b8_z) - sin(\u03b8_y)\u22c5s\n",
        "\n",
        ")                   -sin(\u03b8_y)    \u23a4\n",
        "                                 \u23a5\n",
        "os(\u03b8\u2093)\u22c5cos(\u03b8_z)  sin(\u03b8\u2093)\u22c5cos(\u03b8_y)\u23a5\n",
        "                                 \u23a5\n",
        "in(\u03b8_z)\u22c5cos(\u03b8\u2093)  cos(\u03b8\u2093)\u22c5cos(\u03b8_y)\u23a6"
       ]
      }
     ],
     "prompt_number": 6
    },
    {
     "cell_type": "markdown",
     "metadata": {},
     "source": [
      "We shall assume global coordinates lie directly below the camera and at the table surface and that the z-axis is defined by the projection of the line, connecting between the camera lens and the base of the target(bottle), to the table surface. And finally that the orientation of the camera is pointed at the objection with only the pitch angle differing from zero(an assumption of what is zero is made here)."
     ]
    },
    {
     "cell_type": "code",
     "collapsed": false,
     "input": [
      "R.subs([(theta_y,0), (theta_z,0)])"
     ],
     "language": "python",
     "metadata": {},
     "outputs": [
      {
       "latex": [
        "$$\\left[\\begin{matrix}1 & 0 & 0\\\\0 & \\cos{\\left (\\theta_{x} \\right )} & \\sin{\\left (\\theta_{x} \\right )}\\\\0 & - \\sin{\\left (\\theta_{x} \\right )} & \\cos{\\left (\\theta_{x} \\right )}\\end{matrix}\\right]$$"
       ],
       "metadata": {},
       "output_type": "pyout",
       "prompt_number": 7,
       "text": [
        "\u23a11     0         0   \u23a4\n",
        "\u23a2                    \u23a5\n",
        "\u23a20  cos(\u03b8\u2093)   sin(\u03b8\u2093)\u23a5\n",
        "\u23a2                    \u23a5\n",
        "\u23a30  -sin(\u03b8\u2093)  cos(\u03b8\u2093)\u23a6"
       ]
      }
     ],
     "prompt_number": 7
    },
    {
     "cell_type": "markdown",
     "metadata": {},
     "source": [
      "A and C are the target and camera location vectors respectively"
     ]
    },
    {
     "cell_type": "code",
     "collapsed": false,
     "input": [
      "c_x, c_y, c_z = symbols('c_x c_y c_z')\n",
      "a_x, a_y, a_z = symbols('a_x a_y a_z')\n",
      "b_x, b_y = symbols('b_x b_y')\n",
      "C = Matrix([c_x, c_y, c_z])\n",
      "A = Matrix([a_x, a_y, a_z])"
     ],
     "language": "python",
     "metadata": {},
     "outputs": [],
     "prompt_number": 8
    },
    {
     "cell_type": "markdown",
     "metadata": {},
     "source": [
      "Below computes the position and orientation of the target with respect to the camera coordinates."
     ]
    },
    {
     "cell_type": "code",
     "collapsed": false,
     "input": [
      "D = R.subs([(theta_y,0), (theta_z,0)])*(A-C)\n",
      "D"
     ],
     "language": "python",
     "metadata": {},
     "outputs": [
      {
       "latex": [
        "$$\\left[\\begin{matrix}a_{x} - c_{x}\\\\\\left(a_{y} - c_{y}\\right) \\cos{\\left (\\theta_{x} \\right )} + \\left(a_{z} - c_{z}\\right) \\sin{\\left (\\theta_{x} \\right )}\\\\- \\left(a_{y} - c_{y}\\right) \\sin{\\left (\\theta_{x} \\right )} + \\left(a_{z} - c_{z}\\right) \\cos{\\left (\\theta_{x} \\right )}\\end{matrix}\\right]$$"
       ],
       "metadata": {},
       "output_type": "pyout",
       "prompt_number": 9,
       "text": [
        "\u23a1                 a\u2093 - c\u2093                  \u23a4\n",
        "\u23a2                                          \u23a5\n",
        "\u23a2(a_y - c_y)\u22c5cos(\u03b8\u2093) + (a_z - c_z)\u22c5sin(\u03b8\u2093) \u23a5\n",
        "\u23a2                                          \u23a5\n",
        "\u23a3-(a_y - c_y)\u22c5sin(\u03b8\u2093) + (a_z - c_z)\u22c5cos(\u03b8\u2093)\u23a6"
       ]
      }
     ],
     "prompt_number": 9
    },
    {
     "cell_type": "code",
     "collapsed": false,
     "input": [
      "Dc = D.subs([(c_x,0),(c_z,0),(c_y,h_l)])\n",
      "Dc"
     ],
     "language": "python",
     "metadata": {},
     "outputs": [
      {
       "latex": [
        "$$\\left[\\begin{matrix}a_{x}\\\\a_{z} \\sin{\\left (\\theta_{x} \\right )} + \\left(a_{y} - h_{l}\\right) \\cos{\\left (\\theta_{x} \\right )}\\\\a_{z} \\cos{\\left (\\theta_{x} \\right )} - \\left(a_{y} - h_{l}\\right) \\sin{\\left (\\theta_{x} \\right )}\\end{matrix}\\right]$$"
       ],
       "metadata": {},
       "output_type": "pyout",
       "prompt_number": 25,
       "text": [
        "\u23a1               a\u2093                \u23a4\n",
        "\u23a2                                 \u23a5\n",
        "\u23a2a_z\u22c5sin(\u03b8\u2093) + (a_y - h_l)\u22c5cos(\u03b8\u2093)\u23a5\n",
        "\u23a2                                 \u23a5\n",
        "\u23a3a_z\u22c5cos(\u03b8\u2093) - (a_y - h_l)\u22c5sin(\u03b8\u2093)\u23a6"
       ]
      }
     ],
     "prompt_number": 25
    },
    {
     "cell_type": "markdown",
     "metadata": {},
     "source": [
      "Here we provide the information that the target is cylinder(bottle) accompaning expressions defining its surface."
     ]
    },
    {
     "cell_type": "code",
     "collapsed": false,
     "input": [
      "Dac = Dc.subs([(a_x, r*cos(phi)),(a_y, h),(a_z, d-r*sin(phi))])\n",
      "Dac"
     ],
     "language": "python",
     "metadata": {},
     "outputs": [
      {
       "latex": [
        "$$\\left[\\begin{matrix}r \\cos{\\left (\\phi \\right )}\\\\\\left(d - r \\sin{\\left (\\phi \\right )}\\right) \\sin{\\left (\\theta_{x} \\right )} + \\left(h - h_{l}\\right) \\cos{\\left (\\theta_{x} \\right )}\\\\\\left(d - r \\sin{\\left (\\phi \\right )}\\right) \\cos{\\left (\\theta_{x} \\right )} - \\left(h - h_{l}\\right) \\sin{\\left (\\theta_{x} \\right )}\\end{matrix}\\right]$$"
       ],
       "metadata": {},
       "output_type": "pyout",
       "prompt_number": 26,
       "text": [
        "\u23a1                 r\u22c5cos(\u03c6)                 \u23a4\n",
        "\u23a2                                          \u23a5\n",
        "\u23a2(d - r\u22c5sin(\u03c6))\u22c5sin(\u03b8\u2093) + (h - h_l)\u22c5cos(\u03b8\u2093)\u23a5\n",
        "\u23a2                                          \u23a5\n",
        "\u23a3(d - r\u22c5sin(\u03c6))\u22c5cos(\u03b8\u2093) - (h - h_l)\u22c5sin(\u03b8\u2093)\u23a6"
       ]
      }
     ],
     "prompt_number": 26
    },
    {
     "cell_type": "code",
     "collapsed": false,
     "input": [
      "Daczeta = Dac.subs(d,h*cot(zeta))\n",
      "Daczeta"
     ],
     "language": "python",
     "metadata": {},
     "outputs": [
      {
       "latex": [
        "$$\\left[\\begin{matrix}r \\cos{\\left (\\phi \\right )}\\\\\\left(h - h_{l}\\right) \\cos{\\left (\\theta_{x} \\right )} + \\left(h \\cot{\\left (\\zeta \\right )} - r \\sin{\\left (\\phi \\right )}\\right) \\sin{\\left (\\theta_{x} \\right )}\\\\- \\left(h - h_{l}\\right) \\sin{\\left (\\theta_{x} \\right )} + \\left(h \\cot{\\left (\\zeta \\right )} - r \\sin{\\left (\\phi \\right )}\\right) \\cos{\\left (\\theta_{x} \\right )}\\end{matrix}\\right]$$"
       ],
       "metadata": {},
       "output_type": "pyout",
       "prompt_number": 27,
       "text": [
        "\u23a1                     r\u22c5cos(\u03c6)                     \u23a4\n",
        "\u23a2                                                  \u23a5\n",
        "\u23a2(h - h_l)\u22c5cos(\u03b8\u2093) + (h\u22c5cot(\u03b6) - r\u22c5sin(\u03c6))\u22c5sin(\u03b8\u2093) \u23a5\n",
        "\u23a2                                                  \u23a5\n",
        "\u23a3-(h - h_l)\u22c5sin(\u03b8\u2093) + (h\u22c5cot(\u03b6) - r\u22c5sin(\u03c6))\u22c5cos(\u03b8\u2093)\u23a6"
       ]
      }
     ],
     "prompt_number": 27
    },
    {
     "cell_type": "code",
     "collapsed": false,
     "input": [
      "B = Matrix([Daczeta[0]/Daczeta[2],Daczeta[1]/Daczeta[2]])\n",
      "B"
     ],
     "language": "python",
     "metadata": {},
     "outputs": [
      {
       "latex": [
        "$$\\left[\\begin{matrix}\\frac{r \\cos{\\left (\\phi \\right )}}{- \\left(h - h_{l}\\right) \\sin{\\left (\\theta_{x} \\right )} + \\left(h \\cot{\\left (\\zeta \\right )} - r \\sin{\\left (\\phi \\right )}\\right) \\cos{\\left (\\theta_{x} \\right )}}\\\\\\frac{\\left(h - h_{l}\\right) \\cos{\\left (\\theta_{x} \\right )} + \\left(h \\cot{\\left (\\zeta \\right )} - r \\sin{\\left (\\phi \\right )}\\right) \\sin{\\left (\\theta_{x} \\right )}}{- \\left(h - h_{l}\\right) \\sin{\\left (\\theta_{x} \\right )} + \\left(h \\cot{\\left (\\zeta \\right )} - r \\sin{\\left (\\phi \\right )}\\right) \\cos{\\left (\\theta_{x} \\right )}}\\end{matrix}\\right]$$"
       ],
       "metadata": {},
       "output_type": "pyout",
       "prompt_number": 28,
       "text": [
        "\u23a1                     r\u22c5cos(\u03c6)                     \u23a4\n",
        "\u23a2\u2500\u2500\u2500\u2500\u2500\u2500\u2500\u2500\u2500\u2500\u2500\u2500\u2500\u2500\u2500\u2500\u2500\u2500\u2500\u2500\u2500\u2500\u2500\u2500\u2500\u2500\u2500\u2500\u2500\u2500\u2500\u2500\u2500\u2500\u2500\u2500\u2500\u2500\u2500\u2500\u2500\u2500\u2500\u2500\u2500\u2500\u2500\u2500\u2500\u2500\u23a5\n",
        "\u23a2-(h - h_l)\u22c5sin(\u03b8\u2093) + (h\u22c5cot(\u03b6) - r\u22c5sin(\u03c6))\u22c5cos(\u03b8\u2093)\u23a5\n",
        "\u23a2                                                  \u23a5\n",
        "\u23a2(h - h_l)\u22c5cos(\u03b8\u2093) + (h\u22c5cot(\u03b6) - r\u22c5sin(\u03c6))\u22c5sin(\u03b8\u2093) \u23a5\n",
        "\u23a2\u2500\u2500\u2500\u2500\u2500\u2500\u2500\u2500\u2500\u2500\u2500\u2500\u2500\u2500\u2500\u2500\u2500\u2500\u2500\u2500\u2500\u2500\u2500\u2500\u2500\u2500\u2500\u2500\u2500\u2500\u2500\u2500\u2500\u2500\u2500\u2500\u2500\u2500\u2500\u2500\u2500\u2500\u2500\u2500\u2500\u2500\u2500\u2500\u2500\u2500\u23a5\n",
        "\u23a3-(h - h_l)\u22c5sin(\u03b8\u2093) + (h\u22c5cot(\u03b6) - r\u22c5sin(\u03c6))\u22c5cos(\u03b8\u2093)\u23a6"
       ]
      }
     ],
     "prompt_number": 28
    },
    {
     "cell_type": "code",
     "collapsed": false,
     "input": [
      "bx = B[0]\n",
      "bx"
     ],
     "language": "python",
     "metadata": {},
     "outputs": [
      {
       "latex": [
        "$$\\frac{r \\cos{\\left (\\phi \\right )}}{- \\left(h - h_{l}\\right) \\sin{\\left (\\theta_{x} \\right )} + \\left(h \\cot{\\left (\\zeta \\right )} - r \\sin{\\left (\\phi \\right )}\\right) \\cos{\\left (\\theta_{x} \\right )}}$$"
       ],
       "metadata": {},
       "output_type": "pyout",
       "prompt_number": 29,
       "text": [
        "                     r\u22c5cos(\u03c6)                     \n",
        "\u2500\u2500\u2500\u2500\u2500\u2500\u2500\u2500\u2500\u2500\u2500\u2500\u2500\u2500\u2500\u2500\u2500\u2500\u2500\u2500\u2500\u2500\u2500\u2500\u2500\u2500\u2500\u2500\u2500\u2500\u2500\u2500\u2500\u2500\u2500\u2500\u2500\u2500\u2500\u2500\u2500\u2500\u2500\u2500\u2500\u2500\u2500\u2500\u2500\u2500\n",
        "-(h - h_l)\u22c5sin(\u03b8\u2093) + (h\u22c5cot(\u03b6) - r\u22c5sin(\u03c6))\u22c5cos(\u03b8\u2093)"
       ]
      }
     ],
     "prompt_number": 29
    },
    {
     "cell_type": "code",
     "collapsed": false,
     "input": [
      "by = B[1]\n",
      "by"
     ],
     "language": "python",
     "metadata": {},
     "outputs": [
      {
       "latex": [
        "$$\\frac{\\left(h - h_{l}\\right) \\cos{\\left (\\theta_{x} \\right )} + \\left(h \\cot{\\left (\\zeta \\right )} - r \\sin{\\left (\\phi \\right )}\\right) \\sin{\\left (\\theta_{x} \\right )}}{- \\left(h - h_{l}\\right) \\sin{\\left (\\theta_{x} \\right )} + \\left(h \\cot{\\left (\\zeta \\right )} - r \\sin{\\left (\\phi \\right )}\\right) \\cos{\\left (\\theta_{x} \\right )}}$$"
       ],
       "metadata": {},
       "output_type": "pyout",
       "prompt_number": 30,
       "text": [
        "(h - h_l)\u22c5cos(\u03b8\u2093) + (h\u22c5cot(\u03b6) - r\u22c5sin(\u03c6))\u22c5sin(\u03b8\u2093) \n",
        "\u2500\u2500\u2500\u2500\u2500\u2500\u2500\u2500\u2500\u2500\u2500\u2500\u2500\u2500\u2500\u2500\u2500\u2500\u2500\u2500\u2500\u2500\u2500\u2500\u2500\u2500\u2500\u2500\u2500\u2500\u2500\u2500\u2500\u2500\u2500\u2500\u2500\u2500\u2500\u2500\u2500\u2500\u2500\u2500\u2500\u2500\u2500\u2500\u2500\u2500\n",
        "-(h - h_l)\u22c5sin(\u03b8\u2093) + (h\u22c5cot(\u03b6) - r\u22c5sin(\u03c6))\u22c5cos(\u03b8\u2093)"
       ]
      }
     ],
     "prompt_number": 30
    },
    {
     "cell_type": "code",
     "collapsed": false,
     "input": [
      "alpha_0, phi_0 = symbols('alpha_0 phi_0')\n",
      "hl = r*(1-sin(phi_0))/(cot(theta_x - alpha_0) - cot(theta_x - beta))\n",
      "hl"
     ],
     "language": "python",
     "metadata": {},
     "outputs": [
      {
       "latex": [
        "$$\\frac{r \\left(- \\sin{\\left (\\phi_{0} \\right )} + 1\\right)}{- \\cot{\\left (\\alpha_{0} - \\theta_{x} \\right )} + \\cot{\\left (\\beta - \\theta_{x} \\right )}}$$"
       ],
       "metadata": {},
       "output_type": "pyout",
       "prompt_number": 31,
       "text": [
        "      r\u22c5(-sin(\u03c6\u2080) + 1)     \n",
        "\u2500\u2500\u2500\u2500\u2500\u2500\u2500\u2500\u2500\u2500\u2500\u2500\u2500\u2500\u2500\u2500\u2500\u2500\u2500\u2500\u2500\u2500\u2500\u2500\u2500\u2500\u2500\n",
        "-cot(\u03b1\u2080 - \u03b8\u2093) + cot(\u03b2 - \u03b8\u2093)"
       ]
      }
     ],
     "prompt_number": 31
    },
    {
     "cell_type": "code",
     "collapsed": false,
     "input": [
      "bxhl = bx.subs(h_l,hl)\n",
      "bxhl"
     ],
     "language": "python",
     "metadata": {},
     "outputs": [
      {
       "latex": [
        "$$\\frac{r \\cos{\\left (\\phi \\right )}}{- \\left(h - \\frac{r \\left(- \\sin{\\left (\\phi_{0} \\right )} + 1\\right)}{- \\cot{\\left (\\alpha_{0} - \\theta_{x} \\right )} + \\cot{\\left (\\beta - \\theta_{x} \\right )}}\\right) \\sin{\\left (\\theta_{x} \\right )} + \\left(h \\cot{\\left (\\zeta \\right )} - r \\sin{\\left (\\phi \\right )}\\right) \\cos{\\left (\\theta_{x} \\right )}}$$"
       ],
       "metadata": {},
       "output_type": "pyout",
       "prompt_number": 32,
       "text": [
        "                                  r\u22c5cos(\u03c6)                                 \n",
        "\u2500\u2500\u2500\u2500\u2500\u2500\u2500\u2500\u2500\u2500\u2500\u2500\u2500\u2500\u2500\u2500\u2500\u2500\u2500\u2500\u2500\u2500\u2500\u2500\u2500\u2500\u2500\u2500\u2500\u2500\u2500\u2500\u2500\u2500\u2500\u2500\u2500\u2500\u2500\u2500\u2500\u2500\u2500\u2500\u2500\u2500\u2500\u2500\u2500\u2500\u2500\u2500\u2500\u2500\u2500\u2500\u2500\u2500\u2500\u2500\u2500\u2500\u2500\u2500\u2500\u2500\u2500\u2500\u2500\u2500\u2500\u2500\u2500\u2500\u2500\n",
        "  \u239b          r\u22c5(-sin(\u03c6\u2080) + 1)     \u239e                                        \n",
        "- \u239ch - \u2500\u2500\u2500\u2500\u2500\u2500\u2500\u2500\u2500\u2500\u2500\u2500\u2500\u2500\u2500\u2500\u2500\u2500\u2500\u2500\u2500\u2500\u2500\u2500\u2500\u2500\u2500\u239f\u22c5sin(\u03b8\u2093) + (h\u22c5cot(\u03b6) - r\u22c5sin(\u03c6))\u22c5cos(\u03b8\u2093)\n",
        "  \u239d    -cot(\u03b1\u2080 - \u03b8\u2093) + cot(\u03b2 - \u03b8\u2093)\u23a0                                        "
       ]
      }
     ],
     "prompt_number": 32
    },
    {
     "cell_type": "code",
     "collapsed": false,
     "input": [
      "byhl = by.subs(h_l,hl)\n",
      "byhl"
     ],
     "language": "python",
     "metadata": {},
     "outputs": [
      {
       "latex": [
        "$$\\frac{\\left(h - \\frac{r \\left(- \\sin{\\left (\\phi_{0} \\right )} + 1\\right)}{- \\cot{\\left (\\alpha_{0} - \\theta_{x} \\right )} + \\cot{\\left (\\beta - \\theta_{x} \\right )}}\\right) \\cos{\\left (\\theta_{x} \\right )} + \\left(h \\cot{\\left (\\zeta \\right )} - r \\sin{\\left (\\phi \\right )}\\right) \\sin{\\left (\\theta_{x} \\right )}}{- \\left(h - \\frac{r \\left(- \\sin{\\left (\\phi_{0} \\right )} + 1\\right)}{- \\cot{\\left (\\alpha_{0} - \\theta_{x} \\right )} + \\cot{\\left (\\beta - \\theta_{x} \\right )}}\\right) \\sin{\\left (\\theta_{x} \\right )} + \\left(h \\cot{\\left (\\zeta \\right )} - r \\sin{\\left (\\phi \\right )}\\right) \\cos{\\left (\\theta_{x} \\right )}}$$"
       ],
       "metadata": {},
       "output_type": "pyout",
       "prompt_number": 33,
       "text": [
        " \u239b          r\u22c5(-sin(\u03c6\u2080) + 1)     \u239e                                         \n",
        " \u239ch - \u2500\u2500\u2500\u2500\u2500\u2500\u2500\u2500\u2500\u2500\u2500\u2500\u2500\u2500\u2500\u2500\u2500\u2500\u2500\u2500\u2500\u2500\u2500\u2500\u2500\u2500\u2500\u239f\u22c5cos(\u03b8\u2093) + (h\u22c5cot(\u03b6) - r\u22c5sin(\u03c6))\u22c5sin(\u03b8\u2093) \n",
        " \u239d    -cot(\u03b1\u2080 - \u03b8\u2093) + cot(\u03b2 - \u03b8\u2093)\u23a0                                         \n",
        "\u2500\u2500\u2500\u2500\u2500\u2500\u2500\u2500\u2500\u2500\u2500\u2500\u2500\u2500\u2500\u2500\u2500\u2500\u2500\u2500\u2500\u2500\u2500\u2500\u2500\u2500\u2500\u2500\u2500\u2500\u2500\u2500\u2500\u2500\u2500\u2500\u2500\u2500\u2500\u2500\u2500\u2500\u2500\u2500\u2500\u2500\u2500\u2500\u2500\u2500\u2500\u2500\u2500\u2500\u2500\u2500\u2500\u2500\u2500\u2500\u2500\u2500\u2500\u2500\u2500\u2500\u2500\u2500\u2500\u2500\u2500\u2500\u2500\u2500\u2500\n",
        "  \u239b          r\u22c5(-sin(\u03c6\u2080) + 1)     \u239e                                        \n",
        "- \u239ch - \u2500\u2500\u2500\u2500\u2500\u2500\u2500\u2500\u2500\u2500\u2500\u2500\u2500\u2500\u2500\u2500\u2500\u2500\u2500\u2500\u2500\u2500\u2500\u2500\u2500\u2500\u2500\u239f\u22c5sin(\u03b8\u2093) + (h\u22c5cot(\u03b6) - r\u22c5sin(\u03c6))\u22c5cos(\u03b8\u2093)\n",
        "  \u239d    -cot(\u03b1\u2080 - \u03b8\u2093) + cot(\u03b2 - \u03b8\u2093)\u23a0                                        "
       ]
      }
     ],
     "prompt_number": 33
    },
    {
     "cell_type": "markdown",
     "metadata": {},
     "source": [
      "All angle quantities above, other than $\\phi$, are measured quanties from identified geometric points in the image. This will greatly reduce the complexity of the expression. The two quantities h and $\\phi$ are the control variables for scanning the image for drawing the label. Are may be arbitrarly set to one (r = 1). Fixing h at some value and ploting x and y, should draw an ellipse. Note above that when $h=h_l$ ,byhl is constant resulting in a horizontal line."
     ]
    },
    {
     "cell_type": "code",
     "collapsed": false,
     "input": [],
     "language": "python",
     "metadata": {},
     "outputs": []
    }
   ],
   "metadata": {}
  }
 ]
}