{
 "metadata": {
  "name": "",
  "signature": "sha256:bd284ed97c075f0f881c0d81f1638e70ba7cfc739780540a8c210e73400507b0"
 },
 "nbformat": 3,
 "nbformat_minor": 0,
 "worksheets": [
  {
   "cells": [
    {
     "cell_type": "code",
     "collapsed": false,
     "input": [
      "from IPython.display import display\n",
      "from sympy.interactive import printing\n",
      "printing.init_printing(use_latex='mathjax')\n",
      "from __future__ import division\n",
      "import sympy as sym\n",
      "from sympy import *\n"
     ],
     "language": "python",
     "metadata": {},
     "outputs": [],
     "prompt_number": 1
    },
    {
     "cell_type": "code",
     "collapsed": false,
     "input": [
      "x, y, z, h = symbols('x y z h')\n",
      "d, r, phi, zeta, h_l, beta = symbols('d r phi zeta h_l beta')\n",
      "theta_x, theta_y, theta_z = symbols('theta_x theta_y theta_z')\n"
     ],
     "language": "python",
     "metadata": {},
     "outputs": [],
     "prompt_number": 2
    },
    {
     "cell_type": "markdown",
     "metadata": {},
     "source": [
      "### Measure values by camera"
     ]
    },
    {
     "cell_type": "code",
     "collapsed": false,
     "input": [
      "def computeZeta(dval,rval,hlval):\n",
      "    z = atan(hlval/(dval + rval))\n",
      "    return z\n",
      "def computeAlpha0(dval,rval):\n",
      "    alpha0 = asin(rval/(dval + rval))\n",
      "    return alpha0\n",
      "def computeBeta(dval,hlval,thetaX):\n",
      "    beta = thetaX - atan(hlval/dval)\n",
      "    return beta"
     ],
     "language": "python",
     "metadata": {},
     "outputs": [],
     "prompt_number": 3
    },
    {
     "cell_type": "markdown",
     "metadata": {},
     "source": [
      "### Camera Orientation Matrix R computation"
     ]
    },
    {
     "cell_type": "code",
     "collapsed": false,
     "input": [
      "Mx = Matrix([[1,0,0],[0,cos(-theta_x),-sin(-theta_x)],[0,sin(-theta_x),cos(-theta_x)]])\n",
      "My = Matrix([[cos(-theta_y),0,sin(-theta_y)],[0,1,0],[sin(-theta_y),0, cos(-theta_y)]])\n",
      "Mz = Matrix([[cos(-theta_z),-sin(-theta_z),0],[sin(-theta_z),cos(-theta_z),0],[0,0,1],])\n",
      "R = Mx*My*Mz"
     ],
     "language": "python",
     "metadata": {},
     "outputs": [],
     "prompt_number": 4
    },
    {
     "cell_type": "code",
     "collapsed": false,
     "input": [
      "Mx"
     ],
     "language": "python",
     "metadata": {},
     "outputs": [
      {
       "latex": [
        "$$\\left[\\begin{matrix}1 & 0 & 0\\\\0 & \\cos{\\left (\\theta_{x} \\right )} & \\sin{\\left (\\theta_{x} \\right )}\\\\0 & - \\sin{\\left (\\theta_{x} \\right )} & \\cos{\\left (\\theta_{x} \\right )}\\end{matrix}\\right]$$"
       ],
       "metadata": {},
       "output_type": "pyout",
       "prompt_number": 5,
       "text": [
        "\u23a11     0         0   \u23a4\n",
        "\u23a2                    \u23a5\n",
        "\u23a20  cos(\u03b8\u2093)   sin(\u03b8\u2093)\u23a5\n",
        "\u23a2                    \u23a5\n",
        "\u23a30  -sin(\u03b8\u2093)  cos(\u03b8\u2093)\u23a6"
       ]
      }
     ],
     "prompt_number": 5
    },
    {
     "cell_type": "code",
     "collapsed": false,
     "input": [
      "My"
     ],
     "language": "python",
     "metadata": {},
     "outputs": [
      {
       "latex": [
        "$$\\left[\\begin{matrix}\\cos{\\left (\\theta_{y} \\right )} & 0 & - \\sin{\\left (\\theta_{y} \\right )}\\\\0 & 1 & 0\\\\- \\sin{\\left (\\theta_{y} \\right )} & 0 & \\cos{\\left (\\theta_{y} \\right )}\\end{matrix}\\right]$$"
       ],
       "metadata": {},
       "output_type": "pyout",
       "prompt_number": 6,
       "text": [
        "\u23a1cos(\u03b8_y)   0  -sin(\u03b8_y)\u23a4\n",
        "\u23a2                       \u23a5\n",
        "\u23a2    0      1      0    \u23a5\n",
        "\u23a2                       \u23a5\n",
        "\u23a3-sin(\u03b8_y)  0  cos(\u03b8_y) \u23a6"
       ]
      }
     ],
     "prompt_number": 6
    },
    {
     "cell_type": "code",
     "collapsed": false,
     "input": [
      "Mz"
     ],
     "language": "python",
     "metadata": {},
     "outputs": [
      {
       "latex": [
        "$$\\left[\\begin{matrix}\\cos{\\left (\\theta_{z} \\right )} & \\sin{\\left (\\theta_{z} \\right )} & 0\\\\- \\sin{\\left (\\theta_{z} \\right )} & \\cos{\\left (\\theta_{z} \\right )} & 0\\\\0 & 0 & 1\\end{matrix}\\right]$$"
       ],
       "metadata": {},
       "output_type": "pyout",
       "prompt_number": 7,
       "text": [
        "\u23a1cos(\u03b8_z)   sin(\u03b8_z)  0\u23a4\n",
        "\u23a2                      \u23a5\n",
        "\u23a2-sin(\u03b8_z)  cos(\u03b8_z)  0\u23a5\n",
        "\u23a2                      \u23a5\n",
        "\u23a3    0         0      1\u23a6"
       ]
      }
     ],
     "prompt_number": 7
    },
    {
     "cell_type": "code",
     "collapsed": false,
     "input": [
      "R"
     ],
     "language": "python",
     "metadata": {},
     "outputs": [
      {
       "latex": [
        "$$\\left[\\begin{matrix}\\cos{\\left (\\theta_{y} \\right )} \\cos{\\left (\\theta_{z} \\right )} & \\sin{\\left (\\theta_{z} \\right )} \\cos{\\left (\\theta_{y} \\right )} & - \\sin{\\left (\\theta_{y} \\right )}\\\\- \\sin{\\left (\\theta_{x} \\right )} \\sin{\\left (\\theta_{y} \\right )} \\cos{\\left (\\theta_{z} \\right )} - \\sin{\\left (\\theta_{z} \\right )} \\cos{\\left (\\theta_{x} \\right )} & - \\sin{\\left (\\theta_{x} \\right )} \\sin{\\left (\\theta_{y} \\right )} \\sin{\\left (\\theta_{z} \\right )} + \\cos{\\left (\\theta_{x} \\right )} \\cos{\\left (\\theta_{z} \\right )} & \\sin{\\left (\\theta_{x} \\right )} \\cos{\\left (\\theta_{y} \\right )}\\\\\\sin{\\left (\\theta_{x} \\right )} \\sin{\\left (\\theta_{z} \\right )} - \\sin{\\left (\\theta_{y} \\right )} \\cos{\\left (\\theta_{x} \\right )} \\cos{\\left (\\theta_{z} \\right )} & - \\sin{\\left (\\theta_{x} \\right )} \\cos{\\left (\\theta_{z} \\right )} - \\sin{\\left (\\theta_{y} \\right )} \\sin{\\left (\\theta_{z} \\right )} \\cos{\\left (\\theta_{x} \\right )} & \\cos{\\left (\\theta_{x} \\right )} \\cos{\\left (\\theta_{y} \\right )}\\end{matrix}\\right]$$"
       ],
       "metadata": {},
       "output_type": "pyout",
       "prompt_number": 8,
       "text": [
        "\u23a1              cos(\u03b8_y)\u22c5cos(\u03b8_z)                              sin(\u03b8_z)\u22c5cos(\u03b8_y\n",
        "\u23a2                                                                             \n",
        "\u23a2-sin(\u03b8\u2093)\u22c5sin(\u03b8_y)\u22c5cos(\u03b8_z) - sin(\u03b8_z)\u22c5cos(\u03b8\u2093)  -sin(\u03b8\u2093)\u22c5sin(\u03b8_y)\u22c5sin(\u03b8_z) + c\n",
        "\u23a2                                                                             \n",
        "\u23a3sin(\u03b8\u2093)\u22c5sin(\u03b8_z) - sin(\u03b8_y)\u22c5cos(\u03b8\u2093)\u22c5cos(\u03b8_z)   -sin(\u03b8\u2093)\u22c5cos(\u03b8_z) - sin(\u03b8_y)\u22c5s\n",
        "\n",
        ")                   -sin(\u03b8_y)    \u23a4\n",
        "                                 \u23a5\n",
        "os(\u03b8\u2093)\u22c5cos(\u03b8_z)  sin(\u03b8\u2093)\u22c5cos(\u03b8_y)\u23a5\n",
        "                                 \u23a5\n",
        "in(\u03b8_z)\u22c5cos(\u03b8\u2093)  cos(\u03b8\u2093)\u22c5cos(\u03b8_y)\u23a6"
       ]
      }
     ],
     "prompt_number": 8
    },
    {
     "cell_type": "markdown",
     "metadata": {},
     "source": [
      "We shall assume global coordinates lie directly below the camera and at the table surface and that the z-axis is defined by the projection of the line, connecting between the camera lens and the base of the target(bottle), to the table surface. And finally that the orientation of the camera is pointed at the objection with only the pitch angle differing from zero(an assumption of what is zero is made here)."
     ]
    },
    {
     "cell_type": "code",
     "collapsed": false,
     "input": [
      "R.subs([(theta_y,0), (theta_z,0)])"
     ],
     "language": "python",
     "metadata": {},
     "outputs": [
      {
       "latex": [
        "$$\\left[\\begin{matrix}1 & 0 & 0\\\\0 & \\cos{\\left (\\theta_{x} \\right )} & \\sin{\\left (\\theta_{x} \\right )}\\\\0 & - \\sin{\\left (\\theta_{x} \\right )} & \\cos{\\left (\\theta_{x} \\right )}\\end{matrix}\\right]$$"
       ],
       "metadata": {},
       "output_type": "pyout",
       "prompt_number": 9,
       "text": [
        "\u23a11     0         0   \u23a4\n",
        "\u23a2                    \u23a5\n",
        "\u23a20  cos(\u03b8\u2093)   sin(\u03b8\u2093)\u23a5\n",
        "\u23a2                    \u23a5\n",
        "\u23a30  -sin(\u03b8\u2093)  cos(\u03b8\u2093)\u23a6"
       ]
      }
     ],
     "prompt_number": 9
    },
    {
     "cell_type": "markdown",
     "metadata": {},
     "source": [
      "A and C are the target and camera location vectors respectively"
     ]
    },
    {
     "cell_type": "code",
     "collapsed": false,
     "input": [
      "c_x, c_y, c_z = symbols('c_x c_y c_z')\n",
      "a_x, a_y, a_z = symbols('a_x a_y a_z')\n",
      "b_x, b_y = symbols('b_x b_y')\n",
      "C = Matrix([c_x, c_y, c_z])\n",
      "A = Matrix([a_x, a_y, a_z])"
     ],
     "language": "python",
     "metadata": {},
     "outputs": [],
     "prompt_number": 10
    },
    {
     "cell_type": "markdown",
     "metadata": {},
     "source": [
      "Below computes the position and orientation of the target with respect to the camera coordinates."
     ]
    },
    {
     "cell_type": "code",
     "collapsed": false,
     "input": [
      "D = R.subs([(theta_y,0), (theta_z,0)])*(A-C)\n",
      "D"
     ],
     "language": "python",
     "metadata": {},
     "outputs": [
      {
       "latex": [
        "$$\\left[\\begin{matrix}a_{x} - c_{x}\\\\\\left(a_{y} - c_{y}\\right) \\cos{\\left (\\theta_{x} \\right )} + \\left(a_{z} - c_{z}\\right) \\sin{\\left (\\theta_{x} \\right )}\\\\- \\left(a_{y} - c_{y}\\right) \\sin{\\left (\\theta_{x} \\right )} + \\left(a_{z} - c_{z}\\right) \\cos{\\left (\\theta_{x} \\right )}\\end{matrix}\\right]$$"
       ],
       "metadata": {},
       "output_type": "pyout",
       "prompt_number": 11,
       "text": [
        "\u23a1                 a\u2093 - c\u2093                  \u23a4\n",
        "\u23a2                                          \u23a5\n",
        "\u23a2(a_y - c_y)\u22c5cos(\u03b8\u2093) + (a_z - c_z)\u22c5sin(\u03b8\u2093) \u23a5\n",
        "\u23a2                                          \u23a5\n",
        "\u23a3-(a_y - c_y)\u22c5sin(\u03b8\u2093) + (a_z - c_z)\u22c5cos(\u03b8\u2093)\u23a6"
       ]
      }
     ],
     "prompt_number": 11
    },
    {
     "cell_type": "code",
     "collapsed": false,
     "input": [
      "Dc = D.subs([(c_x,0),(c_z,0),(c_y,h_l)])\n",
      "Dc"
     ],
     "language": "python",
     "metadata": {},
     "outputs": [
      {
       "latex": [
        "$$\\left[\\begin{matrix}a_{x}\\\\a_{z} \\sin{\\left (\\theta_{x} \\right )} + \\left(a_{y} - h_{l}\\right) \\cos{\\left (\\theta_{x} \\right )}\\\\a_{z} \\cos{\\left (\\theta_{x} \\right )} - \\left(a_{y} - h_{l}\\right) \\sin{\\left (\\theta_{x} \\right )}\\end{matrix}\\right]$$"
       ],
       "metadata": {},
       "output_type": "pyout",
       "prompt_number": 12,
       "text": [
        "\u23a1               a\u2093                \u23a4\n",
        "\u23a2                                 \u23a5\n",
        "\u23a2a_z\u22c5sin(\u03b8\u2093) + (a_y - h_l)\u22c5cos(\u03b8\u2093)\u23a5\n",
        "\u23a2                                 \u23a5\n",
        "\u23a3a_z\u22c5cos(\u03b8\u2093) - (a_y - h_l)\u22c5sin(\u03b8\u2093)\u23a6"
       ]
      }
     ],
     "prompt_number": 12
    },
    {
     "cell_type": "markdown",
     "metadata": {},
     "source": [
      "Here we provide the information that the target is cylinder(bottle) accompaning expressions defining its surface."
     ]
    },
    {
     "cell_type": "code",
     "collapsed": false,
     "input": [
      "Dac = Dc.subs([(a_x, r*cos(phi)),(a_y, h),(a_z, d + r*(1-sin(phi)))])\n",
      "Dac"
     ],
     "language": "python",
     "metadata": {},
     "outputs": [
      {
       "latex": [
        "$$\\left[\\begin{matrix}r \\cos{\\left (\\phi \\right )}\\\\\\left(d + r \\left(- \\sin{\\left (\\phi \\right )} + 1\\right)\\right) \\sin{\\left (\\theta_{x} \\right )} + \\left(h - h_{l}\\right) \\cos{\\left (\\theta_{x} \\right )}\\\\\\left(d + r \\left(- \\sin{\\left (\\phi \\right )} + 1\\right)\\right) \\cos{\\left (\\theta_{x} \\right )} - \\left(h - h_{l}\\right) \\sin{\\left (\\theta_{x} \\right )}\\end{matrix}\\right]$$"
       ],
       "metadata": {},
       "output_type": "pyout",
       "prompt_number": 13,
       "text": [
        "\u23a1                    r\u22c5cos(\u03c6)                     \u23a4\n",
        "\u23a2                                                 \u23a5\n",
        "\u23a2(d + r\u22c5(-sin(\u03c6) + 1))\u22c5sin(\u03b8\u2093) + (h - h_l)\u22c5cos(\u03b8\u2093)\u23a5\n",
        "\u23a2                                                 \u23a5\n",
        "\u23a3(d + r\u22c5(-sin(\u03c6) + 1))\u22c5cos(\u03b8\u2093) - (h - h_l)\u22c5sin(\u03b8\u2093)\u23a6"
       ]
      }
     ],
     "prompt_number": 13
    },
    {
     "cell_type": "code",
     "collapsed": false,
     "input": [
      "Daczeta = Dac.subs(d,h_l*cot(zeta)-r)\n",
      "Daczeta"
     ],
     "language": "python",
     "metadata": {},
     "outputs": [
      {
       "latex": [
        "$$\\left[\\begin{matrix}r \\cos{\\left (\\phi \\right )}\\\\\\left(h - h_{l}\\right) \\cos{\\left (\\theta_{x} \\right )} + \\left(h_{l} \\cot{\\left (\\zeta \\right )} + r \\left(- \\sin{\\left (\\phi \\right )} + 1\\right) - r\\right) \\sin{\\left (\\theta_{x} \\right )}\\\\- \\left(h - h_{l}\\right) \\sin{\\left (\\theta_{x} \\right )} + \\left(h_{l} \\cot{\\left (\\zeta \\right )} + r \\left(- \\sin{\\left (\\phi \\right )} + 1\\right) - r\\right) \\cos{\\left (\\theta_{x} \\right )}\\end{matrix}\\right]$$"
       ],
       "metadata": {},
       "output_type": "pyout",
       "prompt_number": 14,
       "text": [
        "\u23a1                           r\u22c5cos(\u03c6)                            \u23a4\n",
        "\u23a2                                                               \u23a5\n",
        "\u23a2(h - h_l)\u22c5cos(\u03b8\u2093) + (h_l\u22c5cot(\u03b6) + r\u22c5(-sin(\u03c6) + 1) - r)\u22c5sin(\u03b8\u2093) \u23a5\n",
        "\u23a2                                                               \u23a5\n",
        "\u23a3-(h - h_l)\u22c5sin(\u03b8\u2093) + (h_l\u22c5cot(\u03b6) + r\u22c5(-sin(\u03c6) + 1) - r)\u22c5cos(\u03b8\u2093)\u23a6"
       ]
      }
     ],
     "prompt_number": 14
    },
    {
     "cell_type": "code",
     "collapsed": false,
     "input": [
      "B = Matrix([Daczeta[0]/Daczeta[2],Daczeta[1]/Daczeta[2]])\n",
      "B"
     ],
     "language": "python",
     "metadata": {},
     "outputs": [
      {
       "latex": [
        "$$\\left[\\begin{matrix}\\frac{r \\cos{\\left (\\phi \\right )}}{- \\left(h - h_{l}\\right) \\sin{\\left (\\theta_{x} \\right )} + \\left(h_{l} \\cot{\\left (\\zeta \\right )} + r \\left(- \\sin{\\left (\\phi \\right )} + 1\\right) - r\\right) \\cos{\\left (\\theta_{x} \\right )}}\\\\\\frac{\\left(h - h_{l}\\right) \\cos{\\left (\\theta_{x} \\right )} + \\left(h_{l} \\cot{\\left (\\zeta \\right )} + r \\left(- \\sin{\\left (\\phi \\right )} + 1\\right) - r\\right) \\sin{\\left (\\theta_{x} \\right )}}{- \\left(h - h_{l}\\right) \\sin{\\left (\\theta_{x} \\right )} + \\left(h_{l} \\cot{\\left (\\zeta \\right )} + r \\left(- \\sin{\\left (\\phi \\right )} + 1\\right) - r\\right) \\cos{\\left (\\theta_{x} \\right )}}\\end{matrix}\\right]$$"
       ],
       "metadata": {},
       "output_type": "pyout",
       "prompt_number": 15,
       "text": [
        "\u23a1                            r\u22c5cos(\u03c6)                           \u23a4\n",
        "\u23a2\u2500\u2500\u2500\u2500\u2500\u2500\u2500\u2500\u2500\u2500\u2500\u2500\u2500\u2500\u2500\u2500\u2500\u2500\u2500\u2500\u2500\u2500\u2500\u2500\u2500\u2500\u2500\u2500\u2500\u2500\u2500\u2500\u2500\u2500\u2500\u2500\u2500\u2500\u2500\u2500\u2500\u2500\u2500\u2500\u2500\u2500\u2500\u2500\u2500\u2500\u2500\u2500\u2500\u2500\u2500\u2500\u2500\u2500\u2500\u2500\u2500\u2500\u2500\u23a5\n",
        "\u23a2-(h - h_l)\u22c5sin(\u03b8\u2093) + (h_l\u22c5cot(\u03b6) + r\u22c5(-sin(\u03c6) + 1) - r)\u22c5cos(\u03b8\u2093)\u23a5\n",
        "\u23a2                                                               \u23a5\n",
        "\u23a2 (h - h_l)\u22c5cos(\u03b8\u2093) + (h_l\u22c5cot(\u03b6) + r\u22c5(-sin(\u03c6) + 1) - r)\u22c5sin(\u03b8\u2093)\u23a5\n",
        "\u23a2\u2500\u2500\u2500\u2500\u2500\u2500\u2500\u2500\u2500\u2500\u2500\u2500\u2500\u2500\u2500\u2500\u2500\u2500\u2500\u2500\u2500\u2500\u2500\u2500\u2500\u2500\u2500\u2500\u2500\u2500\u2500\u2500\u2500\u2500\u2500\u2500\u2500\u2500\u2500\u2500\u2500\u2500\u2500\u2500\u2500\u2500\u2500\u2500\u2500\u2500\u2500\u2500\u2500\u2500\u2500\u2500\u2500\u2500\u2500\u2500\u2500\u2500\u2500\u23a5\n",
        "\u23a3-(h - h_l)\u22c5sin(\u03b8\u2093) + (h_l\u22c5cot(\u03b6) + r\u22c5(-sin(\u03c6) + 1) - r)\u22c5cos(\u03b8\u2093)\u23a6"
       ]
      }
     ],
     "prompt_number": 15
    },
    {
     "cell_type": "code",
     "collapsed": false,
     "input": [
      "bx = B[0]\n",
      "bx"
     ],
     "language": "python",
     "metadata": {},
     "outputs": [
      {
       "latex": [
        "$$\\frac{r \\cos{\\left (\\phi \\right )}}{- \\left(h - h_{l}\\right) \\sin{\\left (\\theta_{x} \\right )} + \\left(h_{l} \\cot{\\left (\\zeta \\right )} + r \\left(- \\sin{\\left (\\phi \\right )} + 1\\right) - r\\right) \\cos{\\left (\\theta_{x} \\right )}}$$"
       ],
       "metadata": {},
       "output_type": "pyout",
       "prompt_number": 16,
       "text": [
        "                            r\u22c5cos(\u03c6)                           \n",
        "\u2500\u2500\u2500\u2500\u2500\u2500\u2500\u2500\u2500\u2500\u2500\u2500\u2500\u2500\u2500\u2500\u2500\u2500\u2500\u2500\u2500\u2500\u2500\u2500\u2500\u2500\u2500\u2500\u2500\u2500\u2500\u2500\u2500\u2500\u2500\u2500\u2500\u2500\u2500\u2500\u2500\u2500\u2500\u2500\u2500\u2500\u2500\u2500\u2500\u2500\u2500\u2500\u2500\u2500\u2500\u2500\u2500\u2500\u2500\u2500\u2500\u2500\u2500\n",
        "-(h - h_l)\u22c5sin(\u03b8\u2093) + (h_l\u22c5cot(\u03b6) + r\u22c5(-sin(\u03c6) + 1) - r)\u22c5cos(\u03b8\u2093)"
       ]
      }
     ],
     "prompt_number": 16
    },
    {
     "cell_type": "code",
     "collapsed": false,
     "input": [
      "by = B[1]\n",
      "by"
     ],
     "language": "python",
     "metadata": {},
     "outputs": [
      {
       "latex": [
        "$$\\frac{\\left(h - h_{l}\\right) \\cos{\\left (\\theta_{x} \\right )} + \\left(h_{l} \\cot{\\left (\\zeta \\right )} + r \\left(- \\sin{\\left (\\phi \\right )} + 1\\right) - r\\right) \\sin{\\left (\\theta_{x} \\right )}}{- \\left(h - h_{l}\\right) \\sin{\\left (\\theta_{x} \\right )} + \\left(h_{l} \\cot{\\left (\\zeta \\right )} + r \\left(- \\sin{\\left (\\phi \\right )} + 1\\right) - r\\right) \\cos{\\left (\\theta_{x} \\right )}}$$"
       ],
       "metadata": {},
       "output_type": "pyout",
       "prompt_number": 17,
       "text": [
        " (h - h_l)\u22c5cos(\u03b8\u2093) + (h_l\u22c5cot(\u03b6) + r\u22c5(-sin(\u03c6) + 1) - r)\u22c5sin(\u03b8\u2093)\n",
        "\u2500\u2500\u2500\u2500\u2500\u2500\u2500\u2500\u2500\u2500\u2500\u2500\u2500\u2500\u2500\u2500\u2500\u2500\u2500\u2500\u2500\u2500\u2500\u2500\u2500\u2500\u2500\u2500\u2500\u2500\u2500\u2500\u2500\u2500\u2500\u2500\u2500\u2500\u2500\u2500\u2500\u2500\u2500\u2500\u2500\u2500\u2500\u2500\u2500\u2500\u2500\u2500\u2500\u2500\u2500\u2500\u2500\u2500\u2500\u2500\u2500\u2500\u2500\n",
        "-(h - h_l)\u22c5sin(\u03b8\u2093) + (h_l\u22c5cot(\u03b6) + r\u22c5(-sin(\u03c6) + 1) - r)\u22c5cos(\u03b8\u2093)"
       ]
      }
     ],
     "prompt_number": 17
    },
    {
     "cell_type": "code",
     "collapsed": false,
     "input": [
      "alpha_0, phi_0 = symbols('alpha_0 phi_0')\n",
      "hl = r*(1-sin(phi_0))/(cot(theta_x - alpha_0) - cot(theta_x - beta))\n",
      "hl"
     ],
     "language": "python",
     "metadata": {},
     "outputs": [
      {
       "latex": [
        "$$\\frac{r \\left(- \\sin{\\left (\\phi_{0} \\right )} + 1\\right)}{- \\cot{\\left (\\alpha_{0} - \\theta_{x} \\right )} + \\cot{\\left (\\beta - \\theta_{x} \\right )}}$$"
       ],
       "metadata": {},
       "output_type": "pyout",
       "prompt_number": 18,
       "text": [
        "      r\u22c5(-sin(\u03c6\u2080) + 1)     \n",
        "\u2500\u2500\u2500\u2500\u2500\u2500\u2500\u2500\u2500\u2500\u2500\u2500\u2500\u2500\u2500\u2500\u2500\u2500\u2500\u2500\u2500\u2500\u2500\u2500\u2500\u2500\u2500\n",
        "-cot(\u03b1\u2080 - \u03b8\u2093) + cot(\u03b2 - \u03b8\u2093)"
       ]
      }
     ],
     "prompt_number": 18
    },
    {
     "cell_type": "markdown",
     "metadata": {},
     "source": [
      "All angle quantities above, other than $\\phi$, are measured quanties from identified geometric points in the image. This will greatly reduce the complexity of the expression. The two quantities h and $\\phi$ are the control variables for scanning the image for drawing the label. Are may be arbitrarly set to one (r = 1). Fixing h at some value and ploting x and y, should draw an ellipse. Note above that when $h=h_l$ ,byhl is constant resulting in a horizontal line."
     ]
    },
    {
     "cell_type": "markdown",
     "metadata": {},
     "source": [
      "We'll work with bx and by here by setting values to d, r, and hl, and computing zeta.\n",
      "Then for a group of h values plot bx and by over phi"
     ]
    },
    {
     "cell_type": "code",
     "collapsed": false,
     "input": [
      "dval = 5\n",
      "rval = 1\n",
      "hlval = 2\n",
      "zetaval = computeZeta(dval,rval,hlval)\n",
      "zetaval"
     ],
     "language": "python",
     "metadata": {},
     "outputs": [
      {
       "latex": [
        "$$0.321750554396642$$"
       ],
       "metadata": {},
       "output_type": "pyout",
       "prompt_number": 19,
       "text": [
        "0.321750554396642"
       ]
      }
     ],
     "prompt_number": 19
    },
    {
     "cell_type": "code",
     "collapsed": false,
     "input": [
      "import math"
     ],
     "language": "python",
     "metadata": {},
     "outputs": [],
     "prompt_number": 27
    },
    {
     "cell_type": "code",
     "collapsed": false,
     "input": [
      "bxinstance = bx.subs([(r,rval),(h_l, hlval),(zeta,zetaval)])\n",
      "bxinstance"
     ],
     "language": "python",
     "metadata": {},
     "outputs": [
      {
       "latex": [
        "$$\\frac{\\cos{\\left (\\phi \\right )}}{- \\left(h - 2\\right) \\sin{\\left (\\theta_{x} \\right )} + \\left(- \\sin{\\left (\\phi \\right )} + 6.0\\right) \\cos{\\left (\\theta_{x} \\right )}}$$"
       ],
       "metadata": {},
       "output_type": "pyout",
       "prompt_number": 21,
       "text": [
        "                  cos(\u03c6)                  \n",
        "\u2500\u2500\u2500\u2500\u2500\u2500\u2500\u2500\u2500\u2500\u2500\u2500\u2500\u2500\u2500\u2500\u2500\u2500\u2500\u2500\u2500\u2500\u2500\u2500\u2500\u2500\u2500\u2500\u2500\u2500\u2500\u2500\u2500\u2500\u2500\u2500\u2500\u2500\u2500\u2500\u2500\u2500\n",
        "-(h - 2)\u22c5sin(\u03b8\u2093) + (-sin(\u03c6) + 6.0)\u22c5cos(\u03b8\u2093)"
       ]
      }
     ],
     "prompt_number": 21
    },
    {
     "cell_type": "code",
     "collapsed": false,
     "input": [
      "byinstance = by.subs([(r,rval),(h_l, hlval),(zeta,zetaval)])\n",
      "byinstance"
     ],
     "language": "python",
     "metadata": {},
     "outputs": [
      {
       "latex": [
        "$$\\frac{\\left(h - 2\\right) \\cos{\\left (\\theta_{x} \\right )} + \\left(- \\sin{\\left (\\phi \\right )} + 6.0\\right) \\sin{\\left (\\theta_{x} \\right )}}{- \\left(h - 2\\right) \\sin{\\left (\\theta_{x} \\right )} + \\left(- \\sin{\\left (\\phi \\right )} + 6.0\\right) \\cos{\\left (\\theta_{x} \\right )}}$$"
       ],
       "metadata": {},
       "output_type": "pyout",
       "prompt_number": 22,
       "text": [
        "(h - 2)\u22c5cos(\u03b8\u2093) + (-sin(\u03c6) + 6.0)\u22c5sin(\u03b8\u2093) \n",
        "\u2500\u2500\u2500\u2500\u2500\u2500\u2500\u2500\u2500\u2500\u2500\u2500\u2500\u2500\u2500\u2500\u2500\u2500\u2500\u2500\u2500\u2500\u2500\u2500\u2500\u2500\u2500\u2500\u2500\u2500\u2500\u2500\u2500\u2500\u2500\u2500\u2500\u2500\u2500\u2500\u2500\u2500\n",
        "-(h - 2)\u22c5sin(\u03b8\u2093) + (-sin(\u03c6) + 6.0)\u22c5cos(\u03b8\u2093)"
       ]
      }
     ],
     "prompt_number": 22
    },
    {
     "cell_type": "code",
     "collapsed": false,
     "input": [
      "from sympy.utilities.lambdify import lambdify\n",
      "hlfunc = lambdify((alpha_0, phi_0, beta, theta_x, r),h_l)\n",
      "bxfunc = lambdify((h, phi, theta_x), bxinstance, \"numpy\")\n",
      "byfunc = lambdify((h, phi, theta_x), byinstance, \"numpy\")"
     ],
     "language": "python",
     "metadata": {},
     "outputs": [],
     "prompt_number": 23
    },
    {
     "cell_type": "code",
     "collapsed": false,
     "input": [
      "import numpy as np\n",
      "import matplotlib.pyplot as plt\n",
      "%matplotlib inline"
     ],
     "language": "python",
     "metadata": {},
     "outputs": [],
     "prompt_number": 24
    },
    {
     "cell_type": "code",
     "collapsed": false,
     "input": [
      "alpha0 = computeAlpha0(dval,rval)\n",
      "plt.figure(figsize=(12,12), dpi=100)\n",
      "endAngle = math.pi - alpha0\n",
      "angles = np.linspace(0, math.pi ,100)\n",
      "bxvals = bxfunc(3,angles,0) \n",
      "byvals = byfunc(3,angles,0)\n",
      "plt.plot(bxvals,byvals,  lw=1, c=\"blue\")\n",
      "bxvals = bxfunc(2,angles,0) \n",
      "byvals = byfunc(2,angles,0)\n",
      "plt.plot(bxvals,byvals,  lw=1, c=\"red\")\n",
      "bxvals = bxfunc(1,angles,0) \n",
      "byvals = byfunc(1,angles,0)\n",
      "plt.plot(bxvals,byvals,  lw=1, c=\"green\")\n",
      "plt.xlim([-.5,.5])\n",
      "plt.ylim([-.5,.5])"
     ],
     "language": "python",
     "metadata": {},
     "outputs": [
      {
       "output_type": "stream",
       "stream": "stdout",
       "text": [
        "3.14159265359\n",
        "2.97414457437010\n"
       ]
      },
      {
       "latex": [
        "$$\\begin{pmatrix}-0.5, & 0.5\\end{pmatrix}$$"
       ],
       "metadata": {},
       "output_type": "pyout",
       "prompt_number": 46,
       "text": [
        "(-0.5, 0.5)"
       ]
      },
      {
       "metadata": {},
       "output_type": "display_data",
       "png": "[encoded data removed]",
       "text": [
        "<matplotlib.figure.Figure at 0x87dac50>"
       ]
      }
     ],
     "prompt_number": 46
    },
    {
     "cell_type": "code",
     "collapsed": false,
     "input": [
      "alpha0"
     ],
     "language": "python",
     "metadata": {},
     "outputs": [
      {
       "latex": [
        "$$0.167448079219689$$"
       ],
       "metadata": {},
       "output_type": "pyout",
       "prompt_number": 47,
       "text": [
        "0.167448079219689"
       ]
      }
     ],
     "prompt_number": 47
    },
    {
     "cell_type": "code",
     "collapsed": false,
     "input": [
      "import vtk\n",
      "from IPython.display import Image\n",
      "import numpy as np"
     ],
     "language": "python",
     "metadata": {},
     "outputs": [],
     "prompt_number": 48
    },
    {
     "cell_type": "code",
     "collapsed": false,
     "input": [
      "def vtk_writeImage(renderer, width=1200, height=1200):\n",
      "    renderWindow = vtk.vtkRenderWindow()\n",
      "    renderWindow.SetOffScreenRendering(1)\n",
      "    renderWindow.AddRenderer(renderer)\n",
      "    renderWindow.SetSize(width, height)\n",
      "    renderWindow.Render()\n",
      "     \n",
      "    windowToImageFilter = vtk.vtkWindowToImageFilter()\n",
      "    windowToImageFilter.SetInput(renderWindow)\n",
      "    windowToImageFilter.Update()\n",
      "    \n",
      "    writer2 = vtk.vtkPNGWriter()\n",
      "    writer2.SetFileName(\"./testpngwriter1.png\")\n",
      "    writer2.SetInputConnection(windowToImageFilter.GetOutputPort())\n",
      "    writer2.Write()"
     ],
     "language": "python",
     "metadata": {},
     "outputs": [],
     "prompt_number": 49
    },
    {
     "cell_type": "code",
     "collapsed": false,
     "input": [
      "pngfile = \"medimages/prescriptionlabel.png\"\n",
      "\n",
      "# Create Source\n",
      "cylsrc = vtk.vtkCylinderSource()\n",
      "cylsrc.SetCenter(0,35,0)\n",
      "cylsrc.SetRadius(20.0)\n",
      "cylsrc.SetHeight(70.0)\n",
      "cylsrc.SetResolution(100.0)\n",
      "\n",
      "\n",
      "#print cameraActor\n",
      "# Read the image data from a file\n",
      "\n",
      "#reader = vtk.vtkJPEGReader()\n",
      "#reader.SetFileName(jpegfile)\n",
      "    \n",
      "map_to_cylinder = vtk.vtkTextureMapToCylinder()\n",
      "if vtk.VTK_MAJOR_VERSION <= 5:\n",
      "    map_to_cylinder.SetInput(cylsrc.GetOutput())\n",
      "else:\n",
      "    map_to_cylinder.SetInputConnection(cylsrc.GetOutputPort())\n",
      "\n",
      "map_to_cylinder.PreventSeamOn()\n",
      "\n",
      "\n",
      "xform = vtk.vtkTransformTextureCoords()\n",
      "xform.SetInputConnection(map_to_cylinder.GetOutputPort())\n",
      "xform.SetScale(1, -1, 1)\n",
      "xform.FlipTOn()\n",
      "xform.SetOrigin(80.0, 40.0, 50.0)\n",
      "\n",
      "\n",
      "# Create mapper and set the mapped texture as input\n",
      "mapper = vtk.vtkPolyDataMapper()\n",
      "if vtk.VTK_MAJOR_VERSION <= 5:\n",
      "    mapper.SetInput(xform.GetOutput())\n",
      "else:\n",
      "    mapper.SetInputConnection(xform.GetOutputPort())\n",
      "\n",
      "    \n",
      "# Create texture object    \n",
      "reader = vtk.vtkPNGReader()\n",
      "reader.SetFileName(pngfile)\n",
      "\n",
      "\n",
      "texture = vtk.vtkTexture()\n",
      "#texture.RepeatOff()\n",
      "#texture.RepeatOn()\n",
      "#texture.SetRepeat(5)\n",
      "\n",
      "\n",
      "if vtk.VTK_MAJOR_VERSION <= 5:\n",
      "    texture.SetInput(reader.GetOutput())\n",
      "else:\n",
      "    texture.SetInputConnection(reader.GetOutputPort())    \n",
      "\n",
      "\n",
      "    \n",
      "light = vtk.vtkLightActor()\n",
      "\n",
      "actor = vtk.vtkActor()\n",
      "actor.SetMapper(mapper)\n",
      "actor.SetTexture(texture)\n",
      "\n",
      "\n",
      "#actor.RotateX(20.0)\n",
      "actor.RotateY(20.0)\n",
      "\n",
      "# Cap Part\n",
      "cylcap = vtk.vtkCylinderSource()\n",
      "cylcap.SetCenter(0,40,0)\n",
      "cylcap.SetRadius(24.0)\n",
      "cylcap.SetHeight(10.0)\n",
      "cylcap.SetResolution(100.0)\n",
      "\n",
      "\n",
      "# mapper\n",
      "mappercap = vtk.vtkPolyDataMapper()\n",
      "mappercap.SetInput(cylcap.GetOutput())\n",
      " \n",
      "# actor\n",
      "actorcap = vtk.vtkActor()\n",
      "actorcap.SetMapper(mappercap)\n",
      "actorcap.GetProperty().SetOpacity(1);\n",
      "\n",
      "# Create a render window\n",
      "ren = vtk.vtkRenderer() \n",
      "ren.SetBackground(1,1,1) # Background color white \n",
      "ren.AddActor(actor)    \n",
      "#ren.AddActor(actorcap)\n",
      "ren.AddActor(light)\n",
      "\n",
      "#cameraActor = vtk.vtkCameraActor()\n",
      "camera = vtk.vtkCamera()\n",
      "#camera = cameraActor.GetCamera()\n",
      "#camera.Roll(20)\n",
      "#camera.Pitch(10)\n",
      "camera.SetPosition(0,40,100)\n",
      "camera.SetViewAngle(60.0)\n",
      "camera.SetFocalPoint(0,40.0,0)\n",
      "\n",
      "ren.SetActiveCamera(camera)\n",
      "\n",
      "vtk_writeImage(ren)"
     ],
     "language": "python",
     "metadata": {},
     "outputs": [],
     "prompt_number": 50
    },
    {
     "cell_type": "code",
     "collapsed": false,
     "input": [
      "%matplotlib inline\n",
      "from matplotlib.pyplot import imshow\n",
      "import matplotlib.pyplot as plt\n",
      "import numpy as np\n",
      "from PIL import Image, ImageDraw\n",
      "pil_img = Image.open('./testpngwriter1.png', 'r')\n",
      "fig2 = plt.figure(figsize = (12,12)) \n",
      "ax3 = fig2.add_subplot(111)\n",
      "ax3.imshow(pil_img, interpolation='bicubic')\n",
      "ax3.set_title('larger figure')\n",
      "\n",
      "# Draw ellipse\n",
      "plt.plot(1220*bxvals + 600, 1220*byvals + 600,  lw=1, c=\"blue\") # just a hack\n",
      "\n",
      "plt.show()\n"
     ],
     "language": "python",
     "metadata": {},
     "outputs": [
      {
       "metadata": {},
       "output_type": "display_data",
       "png": "[encoded data removed]",
       "text": [
        "<matplotlib.figure.Figure at 0x8517cf0>"
       ]
      }
     ],
     "prompt_number": 69
    },
    {
     "cell_type": "code",
     "collapsed": false,
     "input": [
      "photopixels = pil_img.load() # create the pixel map\n",
      "imgnew = Image.new( 'RGB', (pil_img.size[0],pil_img.size[1]), \"black\") \n",
      "pixelsnew = imgnew.load()\n"
     ],
     "language": "python",
     "metadata": {},
     "outputs": [],
     "prompt_number": 70
    },
    {
     "cell_type": "markdown",
     "metadata": {},
     "source": [
      "Below is rough and untested code"
     ]
    },
    {
     "cell_type": "code",
     "collapsed": false,
     "input": [
      "def getcolor(ipos, j):\n",
      "    lowerpos = math.floor(ipos)\n",
      "    upperpos = math.ceil(ipos)\n",
      "    px1 = photopixels[lowerpos,j] \n",
      "    px2 = photopixels[upperpos,j]\n",
      "    # Interpolates in x only\n",
      "    v1 = math.ceil((ipos - lowerpos)*px2[0] + (upperpos - ipos)*px1[0])\n",
      "    v2 = math.ceil((ipos - lowerpos)*px2[1] + (upperpos - ipos)*px1[1])\n",
      "    v3 = math.ceil((ipos - lowerpos)*px2[2] + (upperpos - ipos)*px1[2])\n",
      "    return (int(v1),int(v2),int(v3)) # RGB color tuple\n",
      "\n",
      "def changeshapeSpline(top,bottom,thetaX):\n",
      "    imax = imgnew.size[0]\n",
      "    angles = np.linspace(0,math.pi, imax)\n",
      "    topEllipse = byfunc(top,angles,thetaX)\n",
      "    bottleEllipse = byfunc(bottom,angles,thetaX)\n",
      "    ic = bxfunc(0,angles,thetaX)\n",
      "    for i in range(imax):    # for every pixel. Note that this is slow - using nested loops\n",
      "        jmax = imgnew.size[1]\n",
      "        iphoto = ic[i]\n",
      "        for j in range(jmax):\n",
      "            jphoto = (j - jmax)*topEllipse[i] + j*bottleEllipse[i]\n",
      "            px = getcolor(iphoto,jphoto)\n",
      "            pixelsnew[i,j] = (px[0],px[1], px[2])  \n",
      "            \n",
      "def changeshapeInverseOptics(thetaX):\n",
      "    imax = imgnew.size[0]\n",
      "    angles = np.linspace(0,math.pi, imax)\n",
      "    for i in range(imax):    # for every pixel. Note that this is slow - using nested loops\n",
      "        jmax = imgnew.size[1]\n",
      "        iphoto = bxfunc(i,angles,thetaX) \n",
      "        jphoto = int(round(byfunc(i,angles,thetaX))) # bilinear interpolation is likely better than this\n",
      "        for j in range(jmax):\n",
      "            px = getcolor(iphoto,jphoto[j])\n",
      "            pixelsnew[i,j] = (px[0],px[1], px[2])\n",
      "\n",
      "topval = 0  # random mindless guess\n",
      "bottomval = 500  # random mindless guess\n",
      "changeshapeSpline(topval,bottomval,0) \n",
      "# OR\n",
      "# changeshapeInverseOptics(0)"
     ],
     "language": "python",
     "metadata": {},
     "outputs": [
      {
       "ename": "IndexError",
       "evalue": "image index out of range",
       "output_type": "pyerr",
       "traceback": [
        "\u001b[1;31m---------------------------------------------------------------------------\u001b[0m\n\u001b[1;31mIndexError\u001b[0m                                Traceback (most recent call last)",
        "\u001b[1;32m<ipython-input-74-3d0459ea80d0>\u001b[0m in \u001b[0;36m<module>\u001b[1;34m()\u001b[0m\n\u001b[0;32m     37\u001b[0m \u001b[0mtopval\u001b[0m \u001b[1;33m=\u001b[0m \u001b[1;36m0\u001b[0m  \u001b[1;31m# random mindless guess\u001b[0m\u001b[1;33m\u001b[0m\u001b[0m\n\u001b[0;32m     38\u001b[0m \u001b[0mbottomval\u001b[0m \u001b[1;33m=\u001b[0m \u001b[1;36m500\u001b[0m  \u001b[1;31m# random mindless guess\u001b[0m\u001b[1;33m\u001b[0m\u001b[0m\n\u001b[1;32m---> 39\u001b[1;33m \u001b[0mchangeshapeSpline\u001b[0m\u001b[1;33m(\u001b[0m\u001b[0mtopval\u001b[0m\u001b[1;33m,\u001b[0m\u001b[0mbottomval\u001b[0m\u001b[1;33m,\u001b[0m\u001b[1;36m0\u001b[0m\u001b[1;33m)\u001b[0m\u001b[1;33m\u001b[0m\u001b[0m\n\u001b[0m\u001b[0;32m     40\u001b[0m \u001b[1;31m# OR\u001b[0m\u001b[1;33m\u001b[0m\u001b[1;33m\u001b[0m\u001b[0m\n\u001b[0;32m     41\u001b[0m \u001b[1;31m# changeshapeInverseOptics(0)\u001b[0m\u001b[1;33m\u001b[0m\u001b[1;33m\u001b[0m\u001b[0m\n",
        "\u001b[1;32m<ipython-input-74-3d0459ea80d0>\u001b[0m in \u001b[0;36mchangeshapeSpline\u001b[1;34m(top, bottom, thetaX)\u001b[0m\n\u001b[0;32m     21\u001b[0m         \u001b[1;32mfor\u001b[0m \u001b[0mj\u001b[0m \u001b[1;32min\u001b[0m \u001b[0mrange\u001b[0m\u001b[1;33m(\u001b[0m\u001b[0mjmax\u001b[0m\u001b[1;33m)\u001b[0m\u001b[1;33m:\u001b[0m\u001b[1;33m\u001b[0m\u001b[0m\n\u001b[0;32m     22\u001b[0m             \u001b[0mjphoto\u001b[0m \u001b[1;33m=\u001b[0m \u001b[1;33m(\u001b[0m\u001b[0mj\u001b[0m \u001b[1;33m-\u001b[0m \u001b[0mjmax\u001b[0m\u001b[1;33m)\u001b[0m\u001b[1;33m*\u001b[0m\u001b[0mtopEllipse\u001b[0m\u001b[1;33m[\u001b[0m\u001b[0mi\u001b[0m\u001b[1;33m]\u001b[0m \u001b[1;33m+\u001b[0m \u001b[0mj\u001b[0m\u001b[1;33m*\u001b[0m\u001b[0mbottleEllipse\u001b[0m\u001b[1;33m[\u001b[0m\u001b[0mi\u001b[0m\u001b[1;33m]\u001b[0m\u001b[1;33m\u001b[0m\u001b[0m\n\u001b[1;32m---> 23\u001b[1;33m             \u001b[0mpx\u001b[0m \u001b[1;33m=\u001b[0m \u001b[0mgetcolor\u001b[0m\u001b[1;33m(\u001b[0m\u001b[0miphoto\u001b[0m\u001b[1;33m,\u001b[0m\u001b[0mjphoto\u001b[0m\u001b[1;33m)\u001b[0m\u001b[1;33m\u001b[0m\u001b[0m\n\u001b[0m\u001b[0;32m     24\u001b[0m             \u001b[0mpixelsnew\u001b[0m\u001b[1;33m[\u001b[0m\u001b[0mi\u001b[0m\u001b[1;33m,\u001b[0m\u001b[0mj\u001b[0m\u001b[1;33m]\u001b[0m \u001b[1;33m=\u001b[0m \u001b[1;33m(\u001b[0m\u001b[0mpx\u001b[0m\u001b[1;33m[\u001b[0m\u001b[1;36m0\u001b[0m\u001b[1;33m]\u001b[0m\u001b[1;33m,\u001b[0m\u001b[0mpx\u001b[0m\u001b[1;33m[\u001b[0m\u001b[1;36m1\u001b[0m\u001b[1;33m]\u001b[0m\u001b[1;33m,\u001b[0m \u001b[0mpx\u001b[0m\u001b[1;33m[\u001b[0m\u001b[1;36m2\u001b[0m\u001b[1;33m]\u001b[0m\u001b[1;33m)\u001b[0m\u001b[1;33m\u001b[0m\u001b[0m\n\u001b[0;32m     25\u001b[0m \u001b[1;33m\u001b[0m\u001b[0m\n",
        "\u001b[1;32m<ipython-input-74-3d0459ea80d0>\u001b[0m in \u001b[0;36mgetcolor\u001b[1;34m(ipos, j)\u001b[0m\n\u001b[0;32m      2\u001b[0m     \u001b[0mlowerpos\u001b[0m \u001b[1;33m=\u001b[0m \u001b[0mmath\u001b[0m\u001b[1;33m.\u001b[0m\u001b[0mfloor\u001b[0m\u001b[1;33m(\u001b[0m\u001b[0mipos\u001b[0m\u001b[1;33m)\u001b[0m\u001b[1;33m\u001b[0m\u001b[0m\n\u001b[0;32m      3\u001b[0m     \u001b[0mupperpos\u001b[0m \u001b[1;33m=\u001b[0m \u001b[0mmath\u001b[0m\u001b[1;33m.\u001b[0m\u001b[0mceil\u001b[0m\u001b[1;33m(\u001b[0m\u001b[0mipos\u001b[0m\u001b[1;33m)\u001b[0m\u001b[1;33m\u001b[0m\u001b[0m\n\u001b[1;32m----> 4\u001b[1;33m     \u001b[0mpx1\u001b[0m \u001b[1;33m=\u001b[0m \u001b[0mphotopixels\u001b[0m\u001b[1;33m[\u001b[0m\u001b[0mlowerpos\u001b[0m\u001b[1;33m,\u001b[0m\u001b[0mj\u001b[0m\u001b[1;33m]\u001b[0m\u001b[1;33m\u001b[0m\u001b[0m\n\u001b[0m\u001b[0;32m      5\u001b[0m     \u001b[0mpx2\u001b[0m \u001b[1;33m=\u001b[0m \u001b[0mphotopixels\u001b[0m\u001b[1;33m[\u001b[0m\u001b[0mupperpos\u001b[0m\u001b[1;33m,\u001b[0m\u001b[0mj\u001b[0m\u001b[1;33m]\u001b[0m\u001b[1;33m\u001b[0m\u001b[0m\n\u001b[0;32m      6\u001b[0m     \u001b[1;31m# Interpolates in x only\u001b[0m\u001b[1;33m\u001b[0m\u001b[1;33m\u001b[0m\u001b[0m\n",
        "\u001b[1;31mIndexError\u001b[0m: image index out of range"
       ]
      }
     ],
     "prompt_number": 74
    },
    {
     "cell_type": "code",
     "collapsed": false,
     "input": [],
     "language": "python",
     "metadata": {},
     "outputs": []
    }
   ],
   "metadata": {}
  }
 ]
}