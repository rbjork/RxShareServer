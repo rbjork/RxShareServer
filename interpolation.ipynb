{
 "metadata": {
  "name": "",
  "signature": "sha256:0d94e41ab32439b571a2598afd52afa955ee83c2a89650411177a101046c92bb"
 },
 "nbformat": 3,
 "nbformat_minor": 0,
 "worksheets": [
  {
   "cells": [
    {
     "cell_type": "code",
     "collapsed": false,
     "input": [
      "import numpy"
     ],
     "language": "python",
     "metadata": {},
     "outputs": [],
     "prompt_number": 31
    },
    {
     "cell_type": "code",
     "collapsed": false,
     "input": [
      "px1 = (1,2,3)\n",
      "px2 = (4,5,6)\n",
      "px3 = (7,8,9)\n",
      "px4 = (10,11,12)\n",
      "a = [px1,px2,px3,px4]\n",
      "wt = [0.2,0.2,0.3,0.3]"
     ],
     "language": "python",
     "metadata": {},
     "outputs": [],
     "prompt_number": 32
    },
    {
     "cell_type": "markdown",
     "metadata": {},
     "source": [
      "### Matrix Approach"
     ]
    },
    {
     "cell_type": "code",
     "collapsed": false,
     "input": [
      "aa = numpy.asarray(a).T*wt"
     ],
     "language": "python",
     "metadata": {},
     "outputs": [],
     "prompt_number": 33
    },
    {
     "cell_type": "code",
     "collapsed": false,
     "input": [
      "aa.T"
     ],
     "language": "python",
     "metadata": {},
     "outputs": [
      {
       "metadata": {},
       "output_type": "pyout",
       "prompt_number": 34,
       "text": [
        "array([[ 0.2,  0.4,  0.6],\n",
        "       [ 0.8,  1. ,  1.2],\n",
        "       [ 2.1,  2.4,  2.7],\n",
        "       [ 3. ,  3.3,  3.6]])"
       ]
      }
     ],
     "prompt_number": 34
    },
    {
     "cell_type": "code",
     "collapsed": false,
     "input": [
      "colorarray = numpy.sum(aa.T,axis=0).astype(int)\n",
      "colorarray"
     ],
     "language": "python",
     "metadata": {},
     "outputs": [
      {
       "metadata": {},
       "output_type": "pyout",
       "prompt_number": 28,
       "text": [
        "array([6, 7, 8])"
       ]
      }
     ],
     "prompt_number": 28
    },
    {
     "cell_type": "code",
     "collapsed": false,
     "input": [
      "colortuple = tuple(colorarray)"
     ],
     "language": "python",
     "metadata": {},
     "outputs": [],
     "prompt_number": 29
    },
    {
     "cell_type": "code",
     "collapsed": false,
     "input": [
      "colortuple"
     ],
     "language": "python",
     "metadata": {},
     "outputs": [
      {
       "metadata": {},
       "output_type": "pyout",
       "prompt_number": 30,
       "text": [
        "(6, 7, 8)"
       ]
      }
     ],
     "prompt_number": 30
    },
    {
     "cell_type": "markdown",
     "metadata": {},
     "source": [
      "### Scaler Approach"
     ]
    },
    {
     "cell_type": "code",
     "collapsed": false,
     "input": [
      "red = px1[0]*wt[0] + px2[0]*wt[1] + px3[0]*wt[2] + px4[0]*wt[3]\n",
      "green = px1[1]*wt[0] + px2[1]*wt[1] + px3[1]*wt[2] + px4[1]*wt[3]\n",
      "blue = px1[2]*wt[0] + px2[2]*wt[1] + px3[2]*wt[2] + px4[2]*wt[3]\n",
      "print(red)\n",
      "print(green)\n",
      "print(blue)"
     ],
     "language": "python",
     "metadata": {},
     "outputs": [
      {
       "output_type": "stream",
       "stream": "stdout",
       "text": [
        "6.1\n",
        "7.1\n",
        "8.1\n"
       ]
      }
     ],
     "prompt_number": 38
    },
    {
     "cell_type": "code",
     "collapsed": false,
     "input": [
      "(int(red),int(green),int(blue))"
     ],
     "language": "python",
     "metadata": {},
     "outputs": [
      {
       "metadata": {},
       "output_type": "pyout",
       "prompt_number": 42,
       "text": [
        "(6, 7, 8)"
       ]
      }
     ],
     "prompt_number": 42
    },
    {
     "cell_type": "code",
     "collapsed": false,
     "input": [],
     "language": "python",
     "metadata": {},
     "outputs": []
    }
   ],
   "metadata": {}
  }
 ]
}